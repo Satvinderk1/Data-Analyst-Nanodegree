{
 "cells": [
  {
   "cell_type": "markdown",
   "metadata": {},
   "source": [
    "\n",
    "# Project: Medical Appointment No Shows Data Analysis\n",
    "\n",
    "## Table of Contents\n",
    "<ul>\n",
    "<li><a href=\"#intro\">Introduction</a></li>\n",
    "<li><a href=\"#wrangling\">Data Wrangling</a></li>\n",
    "<li><a href=\"#eda\">Exploratory Data Analysis</a></li>\n",
    "<li><a href=\"#conclusions\">Conclusions</a></li>\n",
    "</ul>"
   ]
  },
  {
   "cell_type": "markdown",
   "metadata": {},
   "source": [
    "<a id='intro'></a>\n",
    "## Introduction\n",
    "\n",
    "In this project, I will be analysing no show medical appointments data in Brazil. I am using a dataset which contains information about 100k medical appointments. Main focus of this project will be to find how different characteristics related to patient or appintment affects the rate of no show. \n",
    "\n",
    "A number of characteristics about the patient's appointment are included in each row. There are total 110,527 rows for medical appointments and total 14 columns for associated characteristics.\n",
    "\n",
    "### Column Description:\n",
    "\n",
    "1. PatientId - Identification of a patient\n",
    "2. AppointmentID - Identification of each appointment\n",
    "3. Gender - Male or Female\n",
    "4. ScheduledDay - The day of the actuall appointment, when patient have to visit the doctor.\n",
    "5. AppointmentDay - The day when patient called to schedule the appointment.\n",
    "6. Age - Age of the patient.\n",
    "7. Neighbourhood - Location of the hospital.\n",
    "8. Scholarship - 0 or 1. It indicates whether or not the patient is enrolled in Brasilian welfare program.\n",
    "9. Hipertension - 0 or 1.\n",
    "10. Diabetes - 0 or 1.\n",
    "11. Alcoholism - 0 or 1.\n",
    "12. Handcap - 0 or 1\n",
    "13. SMS_received - 1 or more messages sent to the patient.\n",
    "14. No-show -  Yes or No. (‘No’ - if the patient showed up to their appointment) and (‘Yes’ - if they did not show up).\n",
    "\n",
    "### Questions To Explore:\n",
    "\n",
    "1. Weather a particular gender has more no show rate than other?\n",
    "2. Does people who receive text message about their appointment are less likely to miss it?\n",
    "3. No show trends among the people of different age.\n",
    "4. Does time elapsed between appointment setup date and actual appointment date affects the trends of no show?\n",
    "5. Weather an enrollment in healthcare walefare program affects the no show rate?"
   ]
  },
  {
   "cell_type": "code",
   "execution_count": 1,
   "metadata": {},
   "outputs": [],
   "source": [
    "# Importing all the required packages\n",
    "\n",
    "import pandas as pd\n",
    "import numpy as np\n",
    "import matplotlib.pyplot as plt\n",
    "import seaborn as sns\n",
    "# Adding matplotlib inline to show plots in notebook \n",
    "%matplotlib inline "
   ]
  },
  {
   "cell_type": "markdown",
   "metadata": {},
   "source": [
    "<a id='wrangling'></a>\n",
    "## Data Wrangling\n",
    "\n",
    "\n",
    "### General Properties:\n",
    "\n"
   ]
  },
  {
   "cell_type": "code",
   "execution_count": 2,
   "metadata": {},
   "outputs": [
    {
     "data": {
      "text/html": [
       "<div>\n",
       "<style scoped>\n",
       "    .dataframe tbody tr th:only-of-type {\n",
       "        vertical-align: middle;\n",
       "    }\n",
       "\n",
       "    .dataframe tbody tr th {\n",
       "        vertical-align: top;\n",
       "    }\n",
       "\n",
       "    .dataframe thead th {\n",
       "        text-align: right;\n",
       "    }\n",
       "</style>\n",
       "<table border=\"1\" class=\"dataframe\">\n",
       "  <thead>\n",
       "    <tr style=\"text-align: right;\">\n",
       "      <th></th>\n",
       "      <th>PatientId</th>\n",
       "      <th>AppointmentID</th>\n",
       "      <th>Gender</th>\n",
       "      <th>ScheduledDay</th>\n",
       "      <th>AppointmentDay</th>\n",
       "      <th>Age</th>\n",
       "      <th>Neighbourhood</th>\n",
       "      <th>Scholarship</th>\n",
       "      <th>Hipertension</th>\n",
       "      <th>Diabetes</th>\n",
       "      <th>Alcoholism</th>\n",
       "      <th>Handcap</th>\n",
       "      <th>SMS_received</th>\n",
       "      <th>No-show</th>\n",
       "    </tr>\n",
       "  </thead>\n",
       "  <tbody>\n",
       "    <tr>\n",
       "      <th>0</th>\n",
       "      <td>2.987250e+13</td>\n",
       "      <td>5642903</td>\n",
       "      <td>F</td>\n",
       "      <td>2016-04-29 18:38:08+00:00</td>\n",
       "      <td>2016-04-29 00:00:00+00:00</td>\n",
       "      <td>62</td>\n",
       "      <td>JARDIM DA PENHA</td>\n",
       "      <td>0</td>\n",
       "      <td>1</td>\n",
       "      <td>0</td>\n",
       "      <td>0</td>\n",
       "      <td>0</td>\n",
       "      <td>0</td>\n",
       "      <td>No</td>\n",
       "    </tr>\n",
       "    <tr>\n",
       "      <th>1</th>\n",
       "      <td>5.589978e+14</td>\n",
       "      <td>5642503</td>\n",
       "      <td>M</td>\n",
       "      <td>2016-04-29 16:08:27+00:00</td>\n",
       "      <td>2016-04-29 00:00:00+00:00</td>\n",
       "      <td>56</td>\n",
       "      <td>JARDIM DA PENHA</td>\n",
       "      <td>0</td>\n",
       "      <td>0</td>\n",
       "      <td>0</td>\n",
       "      <td>0</td>\n",
       "      <td>0</td>\n",
       "      <td>0</td>\n",
       "      <td>No</td>\n",
       "    </tr>\n",
       "    <tr>\n",
       "      <th>2</th>\n",
       "      <td>4.262962e+12</td>\n",
       "      <td>5642549</td>\n",
       "      <td>F</td>\n",
       "      <td>2016-04-29 16:19:04+00:00</td>\n",
       "      <td>2016-04-29 00:00:00+00:00</td>\n",
       "      <td>62</td>\n",
       "      <td>MATA DA PRAIA</td>\n",
       "      <td>0</td>\n",
       "      <td>0</td>\n",
       "      <td>0</td>\n",
       "      <td>0</td>\n",
       "      <td>0</td>\n",
       "      <td>0</td>\n",
       "      <td>No</td>\n",
       "    </tr>\n",
       "    <tr>\n",
       "      <th>3</th>\n",
       "      <td>8.679512e+11</td>\n",
       "      <td>5642828</td>\n",
       "      <td>F</td>\n",
       "      <td>2016-04-29 17:29:31+00:00</td>\n",
       "      <td>2016-04-29 00:00:00+00:00</td>\n",
       "      <td>8</td>\n",
       "      <td>PONTAL DE CAMBURI</td>\n",
       "      <td>0</td>\n",
       "      <td>0</td>\n",
       "      <td>0</td>\n",
       "      <td>0</td>\n",
       "      <td>0</td>\n",
       "      <td>0</td>\n",
       "      <td>No</td>\n",
       "    </tr>\n",
       "    <tr>\n",
       "      <th>4</th>\n",
       "      <td>8.841186e+12</td>\n",
       "      <td>5642494</td>\n",
       "      <td>F</td>\n",
       "      <td>2016-04-29 16:07:23+00:00</td>\n",
       "      <td>2016-04-29 00:00:00+00:00</td>\n",
       "      <td>56</td>\n",
       "      <td>JARDIM DA PENHA</td>\n",
       "      <td>0</td>\n",
       "      <td>1</td>\n",
       "      <td>1</td>\n",
       "      <td>0</td>\n",
       "      <td>0</td>\n",
       "      <td>0</td>\n",
       "      <td>No</td>\n",
       "    </tr>\n",
       "  </tbody>\n",
       "</table>\n",
       "</div>"
      ],
      "text/plain": [
       "      PatientId  AppointmentID Gender              ScheduledDay  \\\n",
       "0  2.987250e+13        5642903      F 2016-04-29 18:38:08+00:00   \n",
       "1  5.589978e+14        5642503      M 2016-04-29 16:08:27+00:00   \n",
       "2  4.262962e+12        5642549      F 2016-04-29 16:19:04+00:00   \n",
       "3  8.679512e+11        5642828      F 2016-04-29 17:29:31+00:00   \n",
       "4  8.841186e+12        5642494      F 2016-04-29 16:07:23+00:00   \n",
       "\n",
       "             AppointmentDay  Age      Neighbourhood  Scholarship  \\\n",
       "0 2016-04-29 00:00:00+00:00   62    JARDIM DA PENHA            0   \n",
       "1 2016-04-29 00:00:00+00:00   56    JARDIM DA PENHA            0   \n",
       "2 2016-04-29 00:00:00+00:00   62      MATA DA PRAIA            0   \n",
       "3 2016-04-29 00:00:00+00:00    8  PONTAL DE CAMBURI            0   \n",
       "4 2016-04-29 00:00:00+00:00   56    JARDIM DA PENHA            0   \n",
       "\n",
       "   Hipertension  Diabetes  Alcoholism  Handcap  SMS_received No-show  \n",
       "0             1         0           0        0             0      No  \n",
       "1             0         0           0        0             0      No  \n",
       "2             0         0           0        0             0      No  \n",
       "3             0         0           0        0             0      No  \n",
       "4             1         1           0        0             0      No  "
      ]
     },
     "execution_count": 2,
     "metadata": {},
     "output_type": "execute_result"
    }
   ],
   "source": [
    "# Loading data and parsing date columns. \n",
    "df = pd.read_csv('noshowappointments-kagglev2-may-2016.csv', parse_dates = ['ScheduledDay', 'AppointmentDay'] )\n",
    "# Printing firtst 5 rows\n",
    "df.head()"
   ]
  },
  {
   "cell_type": "code",
   "execution_count": 3,
   "metadata": {},
   "outputs": [
    {
     "name": "stdout",
     "output_type": "stream",
     "text": [
      "<class 'pandas.core.frame.DataFrame'>\n",
      "RangeIndex: 110527 entries, 0 to 110526\n",
      "Data columns (total 14 columns):\n",
      " #   Column          Non-Null Count   Dtype              \n",
      "---  ------          --------------   -----              \n",
      " 0   PatientId       110527 non-null  float64            \n",
      " 1   AppointmentID   110527 non-null  int64              \n",
      " 2   Gender          110527 non-null  object             \n",
      " 3   ScheduledDay    110527 non-null  datetime64[ns, UTC]\n",
      " 4   AppointmentDay  110527 non-null  datetime64[ns, UTC]\n",
      " 5   Age             110527 non-null  int64              \n",
      " 6   Neighbourhood   110527 non-null  object             \n",
      " 7   Scholarship     110527 non-null  int64              \n",
      " 8   Hipertension    110527 non-null  int64              \n",
      " 9   Diabetes        110527 non-null  int64              \n",
      " 10  Alcoholism      110527 non-null  int64              \n",
      " 11  Handcap         110527 non-null  int64              \n",
      " 12  SMS_received    110527 non-null  int64              \n",
      " 13  No-show         110527 non-null  object             \n",
      "dtypes: datetime64[ns, UTC](2), float64(1), int64(8), object(3)\n",
      "memory usage: 11.8+ MB\n"
     ]
    }
   ],
   "source": [
    "# Displaying information about the dataset to inspect datatypes and to look for missing values.\n",
    "df.info()"
   ]
  },
  {
   "cell_type": "code",
   "execution_count": 4,
   "metadata": {},
   "outputs": [
    {
     "data": {
      "text/plain": [
       "0"
      ]
     },
     "execution_count": 4,
     "metadata": {},
     "output_type": "execute_result"
    }
   ],
   "source": [
    "# Cheking for duplicate rows\n",
    "sum(df.duplicated())"
   ]
  },
  {
   "cell_type": "code",
   "execution_count": 5,
   "metadata": {},
   "outputs": [
    {
     "data": {
      "text/html": [
       "<div>\n",
       "<style scoped>\n",
       "    .dataframe tbody tr th:only-of-type {\n",
       "        vertical-align: middle;\n",
       "    }\n",
       "\n",
       "    .dataframe tbody tr th {\n",
       "        vertical-align: top;\n",
       "    }\n",
       "\n",
       "    .dataframe thead th {\n",
       "        text-align: right;\n",
       "    }\n",
       "</style>\n",
       "<table border=\"1\" class=\"dataframe\">\n",
       "  <thead>\n",
       "    <tr style=\"text-align: right;\">\n",
       "      <th></th>\n",
       "      <th>PatientId</th>\n",
       "      <th>AppointmentID</th>\n",
       "      <th>Age</th>\n",
       "      <th>Scholarship</th>\n",
       "      <th>Hipertension</th>\n",
       "      <th>Diabetes</th>\n",
       "      <th>Alcoholism</th>\n",
       "      <th>Handcap</th>\n",
       "      <th>SMS_received</th>\n",
       "    </tr>\n",
       "  </thead>\n",
       "  <tbody>\n",
       "    <tr>\n",
       "      <th>count</th>\n",
       "      <td>1.105270e+05</td>\n",
       "      <td>1.105270e+05</td>\n",
       "      <td>110527.000000</td>\n",
       "      <td>110527.000000</td>\n",
       "      <td>110527.000000</td>\n",
       "      <td>110527.000000</td>\n",
       "      <td>110527.000000</td>\n",
       "      <td>110527.000000</td>\n",
       "      <td>110527.000000</td>\n",
       "    </tr>\n",
       "    <tr>\n",
       "      <th>mean</th>\n",
       "      <td>1.474963e+14</td>\n",
       "      <td>5.675305e+06</td>\n",
       "      <td>37.088874</td>\n",
       "      <td>0.098266</td>\n",
       "      <td>0.197246</td>\n",
       "      <td>0.071865</td>\n",
       "      <td>0.030400</td>\n",
       "      <td>0.022248</td>\n",
       "      <td>0.321026</td>\n",
       "    </tr>\n",
       "    <tr>\n",
       "      <th>std</th>\n",
       "      <td>2.560949e+14</td>\n",
       "      <td>7.129575e+04</td>\n",
       "      <td>23.110205</td>\n",
       "      <td>0.297675</td>\n",
       "      <td>0.397921</td>\n",
       "      <td>0.258265</td>\n",
       "      <td>0.171686</td>\n",
       "      <td>0.161543</td>\n",
       "      <td>0.466873</td>\n",
       "    </tr>\n",
       "    <tr>\n",
       "      <th>min</th>\n",
       "      <td>3.921784e+04</td>\n",
       "      <td>5.030230e+06</td>\n",
       "      <td>-1.000000</td>\n",
       "      <td>0.000000</td>\n",
       "      <td>0.000000</td>\n",
       "      <td>0.000000</td>\n",
       "      <td>0.000000</td>\n",
       "      <td>0.000000</td>\n",
       "      <td>0.000000</td>\n",
       "    </tr>\n",
       "    <tr>\n",
       "      <th>25%</th>\n",
       "      <td>4.172614e+12</td>\n",
       "      <td>5.640286e+06</td>\n",
       "      <td>18.000000</td>\n",
       "      <td>0.000000</td>\n",
       "      <td>0.000000</td>\n",
       "      <td>0.000000</td>\n",
       "      <td>0.000000</td>\n",
       "      <td>0.000000</td>\n",
       "      <td>0.000000</td>\n",
       "    </tr>\n",
       "    <tr>\n",
       "      <th>50%</th>\n",
       "      <td>3.173184e+13</td>\n",
       "      <td>5.680573e+06</td>\n",
       "      <td>37.000000</td>\n",
       "      <td>0.000000</td>\n",
       "      <td>0.000000</td>\n",
       "      <td>0.000000</td>\n",
       "      <td>0.000000</td>\n",
       "      <td>0.000000</td>\n",
       "      <td>0.000000</td>\n",
       "    </tr>\n",
       "    <tr>\n",
       "      <th>75%</th>\n",
       "      <td>9.439172e+13</td>\n",
       "      <td>5.725524e+06</td>\n",
       "      <td>55.000000</td>\n",
       "      <td>0.000000</td>\n",
       "      <td>0.000000</td>\n",
       "      <td>0.000000</td>\n",
       "      <td>0.000000</td>\n",
       "      <td>0.000000</td>\n",
       "      <td>1.000000</td>\n",
       "    </tr>\n",
       "    <tr>\n",
       "      <th>max</th>\n",
       "      <td>9.999816e+14</td>\n",
       "      <td>5.790484e+06</td>\n",
       "      <td>115.000000</td>\n",
       "      <td>1.000000</td>\n",
       "      <td>1.000000</td>\n",
       "      <td>1.000000</td>\n",
       "      <td>1.000000</td>\n",
       "      <td>4.000000</td>\n",
       "      <td>1.000000</td>\n",
       "    </tr>\n",
       "  </tbody>\n",
       "</table>\n",
       "</div>"
      ],
      "text/plain": [
       "          PatientId  AppointmentID            Age    Scholarship  \\\n",
       "count  1.105270e+05   1.105270e+05  110527.000000  110527.000000   \n",
       "mean   1.474963e+14   5.675305e+06      37.088874       0.098266   \n",
       "std    2.560949e+14   7.129575e+04      23.110205       0.297675   \n",
       "min    3.921784e+04   5.030230e+06      -1.000000       0.000000   \n",
       "25%    4.172614e+12   5.640286e+06      18.000000       0.000000   \n",
       "50%    3.173184e+13   5.680573e+06      37.000000       0.000000   \n",
       "75%    9.439172e+13   5.725524e+06      55.000000       0.000000   \n",
       "max    9.999816e+14   5.790484e+06     115.000000       1.000000   \n",
       "\n",
       "        Hipertension       Diabetes     Alcoholism        Handcap  \\\n",
       "count  110527.000000  110527.000000  110527.000000  110527.000000   \n",
       "mean        0.197246       0.071865       0.030400       0.022248   \n",
       "std         0.397921       0.258265       0.171686       0.161543   \n",
       "min         0.000000       0.000000       0.000000       0.000000   \n",
       "25%         0.000000       0.000000       0.000000       0.000000   \n",
       "50%         0.000000       0.000000       0.000000       0.000000   \n",
       "75%         0.000000       0.000000       0.000000       0.000000   \n",
       "max         1.000000       1.000000       1.000000       4.000000   \n",
       "\n",
       "        SMS_received  \n",
       "count  110527.000000  \n",
       "mean        0.321026  \n",
       "std         0.466873  \n",
       "min         0.000000  \n",
       "25%         0.000000  \n",
       "50%         0.000000  \n",
       "75%         1.000000  \n",
       "max         1.000000  "
      ]
     },
     "execution_count": 5,
     "metadata": {},
     "output_type": "execute_result"
    }
   ],
   "source": [
    "# Printing summary statistics\n",
    "df.describe()"
   ]
  },
  {
   "cell_type": "code",
   "execution_count": 6,
   "metadata": {},
   "outputs": [
    {
     "data": {
      "text/plain": [
       "F    71840\n",
       "M    38687\n",
       "Name: Gender, dtype: int64"
      ]
     },
     "execution_count": 6,
     "metadata": {},
     "output_type": "execute_result"
    }
   ],
   "source": [
    "# Checking different values entered in column 'Gender' and checking for any invalid inputs\n",
    "df['Gender'].value_counts()"
   ]
  },
  {
   "cell_type": "markdown",
   "metadata": {},
   "source": [
    "Dates in ScheduledDay and AppointmentDay column for each row is valid only if the AppointmentDay is later than the ScheduledDay. To check this, I am creating a new column \"Diff_days\" which will store the value of time gap in days between ScheduledDay and AppointmentDay. "
   ]
  },
  {
   "cell_type": "code",
   "execution_count": 7,
   "metadata": {},
   "outputs": [
    {
     "data": {
      "text/plain": [
       "0         -1\n",
       "1         -1\n",
       "2         -1\n",
       "3         -1\n",
       "4         -1\n",
       "          ..\n",
       "110522    34\n",
       "110523    34\n",
       "110524    40\n",
       "110525    40\n",
       "110526    40\n",
       "Name: Diff_days, Length: 110527, dtype: int32"
      ]
     },
     "execution_count": 7,
     "metadata": {},
     "output_type": "execute_result"
    }
   ],
   "source": [
    "# Creating new column 'Diff_days'\n",
    "df['Diff_days'] = (df['AppointmentDay']-df['ScheduledDay']).astype('timedelta64[D]').astype(int)\n",
    "df.Diff_days"
   ]
  },
  {
   "cell_type": "markdown",
   "metadata": {},
   "source": [
    "### Dataset Obeservations:\n",
    "\n",
    "1. There are 110,527 rows and 14 columns.\n",
    "2. All the columns have proper datatypes for representing the respective characteristics.\n",
    "3. There are no missing values in any column.\n",
    "4. There are no duplicate records in the dataset.\n",
    "5. For analysing above suggested questions, columns-(PatientId, AppointmentID, Neighbourhood, Hipertension, Diabetes, Alcoholism, Handcap) are not needed and hence need to be droped.\n",
    "6. In column Age, the minimum value is '-1' which is invalid and the max value is '115' which could be valid but very rare. So to keep the data consistent, only the rows where Age is between 0-100 will be used for the analysis and other rows will be dropped.\n",
    "7. In Diff_days column, all the values less than 0 are invalid. Because, AppointmentDay has to be on same day or later than the ScheduledDay. So all the rows with invalid input for Day columns needs to be dropped.\n",
    "8. Column names should be in same format. Hence, 'No-show' needs to be changed to 'No_show'"
   ]
  },
  {
   "cell_type": "markdown",
   "metadata": {},
   "source": [
    "### Data Cleaning:\n",
    "\n",
    "To clean this dataset for analysing above questions, we will drop the unsed columns and rename required column in this section."
   ]
  },
  {
   "cell_type": "markdown",
   "metadata": {},
   "source": [
    "#### Step 1- Dropping columns not useful for this analysis"
   ]
  },
  {
   "cell_type": "code",
   "execution_count": 8,
   "metadata": {},
   "outputs": [],
   "source": [
    "df.drop(['PatientId', 'AppointmentID', 'Neighbourhood', 'Hipertension', 'Diabetes', 'Alcoholism', 'Handcap'], axis=1, inplace=True)"
   ]
  },
  {
   "cell_type": "markdown",
   "metadata": {},
   "source": [
    "#### Step 2- Deleting rows with invalid Age values and keeping rows with Age values from 0 to 100"
   ]
  },
  {
   "cell_type": "code",
   "execution_count": 9,
   "metadata": {},
   "outputs": [
    {
     "data": {
      "text/html": [
       "<div>\n",
       "<style scoped>\n",
       "    .dataframe tbody tr th:only-of-type {\n",
       "        vertical-align: middle;\n",
       "    }\n",
       "\n",
       "    .dataframe tbody tr th {\n",
       "        vertical-align: top;\n",
       "    }\n",
       "\n",
       "    .dataframe thead th {\n",
       "        text-align: right;\n",
       "    }\n",
       "</style>\n",
       "<table border=\"1\" class=\"dataframe\">\n",
       "  <thead>\n",
       "    <tr style=\"text-align: right;\">\n",
       "      <th></th>\n",
       "      <th>Gender</th>\n",
       "      <th>ScheduledDay</th>\n",
       "      <th>AppointmentDay</th>\n",
       "      <th>Age</th>\n",
       "      <th>Scholarship</th>\n",
       "      <th>SMS_received</th>\n",
       "      <th>No-show</th>\n",
       "      <th>Diff_days</th>\n",
       "    </tr>\n",
       "  </thead>\n",
       "  <tbody>\n",
       "    <tr>\n",
       "      <th>58014</th>\n",
       "      <td>F</td>\n",
       "      <td>2016-05-03 09:14:53+00:00</td>\n",
       "      <td>2016-05-03 00:00:00+00:00</td>\n",
       "      <td>102</td>\n",
       "      <td>0</td>\n",
       "      <td>0</td>\n",
       "      <td>No</td>\n",
       "      <td>-1</td>\n",
       "    </tr>\n",
       "    <tr>\n",
       "      <th>63912</th>\n",
       "      <td>F</td>\n",
       "      <td>2016-05-16 09:17:44+00:00</td>\n",
       "      <td>2016-05-19 00:00:00+00:00</td>\n",
       "      <td>115</td>\n",
       "      <td>0</td>\n",
       "      <td>0</td>\n",
       "      <td>Yes</td>\n",
       "      <td>2</td>\n",
       "    </tr>\n",
       "    <tr>\n",
       "      <th>63915</th>\n",
       "      <td>F</td>\n",
       "      <td>2016-05-16 09:17:44+00:00</td>\n",
       "      <td>2016-05-19 00:00:00+00:00</td>\n",
       "      <td>115</td>\n",
       "      <td>0</td>\n",
       "      <td>0</td>\n",
       "      <td>Yes</td>\n",
       "      <td>2</td>\n",
       "    </tr>\n",
       "    <tr>\n",
       "      <th>68127</th>\n",
       "      <td>F</td>\n",
       "      <td>2016-04-08 14:29:17+00:00</td>\n",
       "      <td>2016-05-16 00:00:00+00:00</td>\n",
       "      <td>115</td>\n",
       "      <td>0</td>\n",
       "      <td>0</td>\n",
       "      <td>Yes</td>\n",
       "      <td>37</td>\n",
       "    </tr>\n",
       "    <tr>\n",
       "      <th>76284</th>\n",
       "      <td>F</td>\n",
       "      <td>2016-05-30 09:44:51+00:00</td>\n",
       "      <td>2016-05-30 00:00:00+00:00</td>\n",
       "      <td>115</td>\n",
       "      <td>0</td>\n",
       "      <td>0</td>\n",
       "      <td>No</td>\n",
       "      <td>-1</td>\n",
       "    </tr>\n",
       "    <tr>\n",
       "      <th>90372</th>\n",
       "      <td>F</td>\n",
       "      <td>2016-05-31 10:19:49+00:00</td>\n",
       "      <td>2016-06-02 00:00:00+00:00</td>\n",
       "      <td>102</td>\n",
       "      <td>0</td>\n",
       "      <td>0</td>\n",
       "      <td>No</td>\n",
       "      <td>1</td>\n",
       "    </tr>\n",
       "    <tr>\n",
       "      <th>97666</th>\n",
       "      <td>F</td>\n",
       "      <td>2016-05-19 07:57:56+00:00</td>\n",
       "      <td>2016-06-03 00:00:00+00:00</td>\n",
       "      <td>115</td>\n",
       "      <td>0</td>\n",
       "      <td>1</td>\n",
       "      <td>No</td>\n",
       "      <td>14</td>\n",
       "    </tr>\n",
       "    <tr>\n",
       "      <th>99832</th>\n",
       "      <td>F</td>\n",
       "      <td>2016-06-06 08:58:13+00:00</td>\n",
       "      <td>2016-06-06 00:00:00+00:00</td>\n",
       "      <td>-1</td>\n",
       "      <td>0</td>\n",
       "      <td>0</td>\n",
       "      <td>No</td>\n",
       "      <td>-1</td>\n",
       "    </tr>\n",
       "  </tbody>\n",
       "</table>\n",
       "</div>"
      ],
      "text/plain": [
       "      Gender              ScheduledDay            AppointmentDay  Age  \\\n",
       "58014      F 2016-05-03 09:14:53+00:00 2016-05-03 00:00:00+00:00  102   \n",
       "63912      F 2016-05-16 09:17:44+00:00 2016-05-19 00:00:00+00:00  115   \n",
       "63915      F 2016-05-16 09:17:44+00:00 2016-05-19 00:00:00+00:00  115   \n",
       "68127      F 2016-04-08 14:29:17+00:00 2016-05-16 00:00:00+00:00  115   \n",
       "76284      F 2016-05-30 09:44:51+00:00 2016-05-30 00:00:00+00:00  115   \n",
       "90372      F 2016-05-31 10:19:49+00:00 2016-06-02 00:00:00+00:00  102   \n",
       "97666      F 2016-05-19 07:57:56+00:00 2016-06-03 00:00:00+00:00  115   \n",
       "99832      F 2016-06-06 08:58:13+00:00 2016-06-06 00:00:00+00:00   -1   \n",
       "\n",
       "       Scholarship  SMS_received No-show  Diff_days  \n",
       "58014            0             0      No         -1  \n",
       "63912            0             0     Yes          2  \n",
       "63915            0             0     Yes          2  \n",
       "68127            0             0     Yes         37  \n",
       "76284            0             0      No         -1  \n",
       "90372            0             0      No          1  \n",
       "97666            0             1      No         14  \n",
       "99832            0             0      No         -1  "
      ]
     },
     "execution_count": 9,
     "metadata": {},
     "output_type": "execute_result"
    }
   ],
   "source": [
    "# Creating mask for rows with invalid Age\n",
    "invalid_age = df[(df.Age > 100) | (df.Age < 0)]\n",
    "invalid_age"
   ]
  },
  {
   "cell_type": "code",
   "execution_count": 10,
   "metadata": {},
   "outputs": [],
   "source": [
    "# Dropping the rows with invalid Age values using 'invalid_age' mask\n",
    "df.drop(invalid_age.index,inplace=True)"
   ]
  },
  {
   "cell_type": "markdown",
   "metadata": {},
   "source": [
    "#### Step 3- Dropping rows with invalid dates in 'AppointmentDay' and 'ScheduledDay' columns using values from 'Diff_days' column"
   ]
  },
  {
   "cell_type": "code",
   "execution_count": 11,
   "metadata": {},
   "outputs": [],
   "source": [
    "df.drop(df[df.Diff_days < 0].index, inplace=True)"
   ]
  },
  {
   "cell_type": "markdown",
   "metadata": {},
   "source": [
    "#### Step 4- Renaming column 'No-show' to 'No_show'"
   ]
  },
  {
   "cell_type": "code",
   "execution_count": 12,
   "metadata": {},
   "outputs": [],
   "source": [
    "df.rename(columns={\"No-show\": \"No_show\"}, inplace=True)"
   ]
  },
  {
   "cell_type": "markdown",
   "metadata": {},
   "source": [
    "#### Step 5- Printing summary statistics of cleaned data"
   ]
  },
  {
   "cell_type": "code",
   "execution_count": 13,
   "metadata": {},
   "outputs": [
    {
     "data": {
      "text/html": [
       "<div>\n",
       "<style scoped>\n",
       "    .dataframe tbody tr th:only-of-type {\n",
       "        vertical-align: middle;\n",
       "    }\n",
       "\n",
       "    .dataframe tbody tr th {\n",
       "        vertical-align: top;\n",
       "    }\n",
       "\n",
       "    .dataframe thead th {\n",
       "        text-align: right;\n",
       "    }\n",
       "</style>\n",
       "<table border=\"1\" class=\"dataframe\">\n",
       "  <thead>\n",
       "    <tr style=\"text-align: right;\">\n",
       "      <th></th>\n",
       "      <th>Age</th>\n",
       "      <th>Scholarship</th>\n",
       "      <th>SMS_received</th>\n",
       "      <th>Diff_days</th>\n",
       "    </tr>\n",
       "  </thead>\n",
       "  <tbody>\n",
       "    <tr>\n",
       "      <th>count</th>\n",
       "      <td>71954.000000</td>\n",
       "      <td>71954.000000</td>\n",
       "      <td>71954.000000</td>\n",
       "      <td>71954.000000</td>\n",
       "    </tr>\n",
       "    <tr>\n",
       "      <th>mean</th>\n",
       "      <td>38.497429</td>\n",
       "      <td>0.092712</td>\n",
       "      <td>0.493107</td>\n",
       "      <td>14.642258</td>\n",
       "    </tr>\n",
       "    <tr>\n",
       "      <th>std</th>\n",
       "      <td>22.917899</td>\n",
       "      <td>0.290030</td>\n",
       "      <td>0.499956</td>\n",
       "      <td>16.494483</td>\n",
       "    </tr>\n",
       "    <tr>\n",
       "      <th>min</th>\n",
       "      <td>0.000000</td>\n",
       "      <td>0.000000</td>\n",
       "      <td>0.000000</td>\n",
       "      <td>0.000000</td>\n",
       "    </tr>\n",
       "    <tr>\n",
       "      <th>25%</th>\n",
       "      <td>19.000000</td>\n",
       "      <td>0.000000</td>\n",
       "      <td>0.000000</td>\n",
       "      <td>3.000000</td>\n",
       "    </tr>\n",
       "    <tr>\n",
       "      <th>50%</th>\n",
       "      <td>39.000000</td>\n",
       "      <td>0.000000</td>\n",
       "      <td>0.000000</td>\n",
       "      <td>8.000000</td>\n",
       "    </tr>\n",
       "    <tr>\n",
       "      <th>75%</th>\n",
       "      <td>57.000000</td>\n",
       "      <td>0.000000</td>\n",
       "      <td>1.000000</td>\n",
       "      <td>21.000000</td>\n",
       "    </tr>\n",
       "    <tr>\n",
       "      <th>max</th>\n",
       "      <td>100.000000</td>\n",
       "      <td>1.000000</td>\n",
       "      <td>1.000000</td>\n",
       "      <td>178.000000</td>\n",
       "    </tr>\n",
       "  </tbody>\n",
       "</table>\n",
       "</div>"
      ],
      "text/plain": [
       "                Age   Scholarship  SMS_received     Diff_days\n",
       "count  71954.000000  71954.000000  71954.000000  71954.000000\n",
       "mean      38.497429      0.092712      0.493107     14.642258\n",
       "std       22.917899      0.290030      0.499956     16.494483\n",
       "min        0.000000      0.000000      0.000000      0.000000\n",
       "25%       19.000000      0.000000      0.000000      3.000000\n",
       "50%       39.000000      0.000000      0.000000      8.000000\n",
       "75%       57.000000      0.000000      1.000000     21.000000\n",
       "max      100.000000      1.000000      1.000000    178.000000"
      ]
     },
     "execution_count": 13,
     "metadata": {},
     "output_type": "execute_result"
    }
   ],
   "source": [
    "df.describe()"
   ]
  },
  {
   "cell_type": "markdown",
   "metadata": {},
   "source": [
    "#### Step 6- Printing information about cleaned data"
   ]
  },
  {
   "cell_type": "code",
   "execution_count": 14,
   "metadata": {},
   "outputs": [
    {
     "name": "stdout",
     "output_type": "stream",
     "text": [
      "<class 'pandas.core.frame.DataFrame'>\n",
      "Int64Index: 71954 entries, 5 to 110526\n",
      "Data columns (total 8 columns):\n",
      " #   Column          Non-Null Count  Dtype              \n",
      "---  ------          --------------  -----              \n",
      " 0   Gender          71954 non-null  object             \n",
      " 1   ScheduledDay    71954 non-null  datetime64[ns, UTC]\n",
      " 2   AppointmentDay  71954 non-null  datetime64[ns, UTC]\n",
      " 3   Age             71954 non-null  int64              \n",
      " 4   Scholarship     71954 non-null  int64              \n",
      " 5   SMS_received    71954 non-null  int64              \n",
      " 6   No_show         71954 non-null  object             \n",
      " 7   Diff_days       71954 non-null  int32              \n",
      "dtypes: datetime64[ns, UTC](2), int32(1), int64(3), object(2)\n",
      "memory usage: 4.7+ MB\n"
     ]
    }
   ],
   "source": [
    "df.info()"
   ]
  },
  {
   "cell_type": "markdown",
   "metadata": {},
   "source": [
    "#### Step 7- Saving new clean dataset to a csv file"
   ]
  },
  {
   "cell_type": "code",
   "execution_count": 15,
   "metadata": {},
   "outputs": [],
   "source": [
    "df.to_csv('clean_noshowappointments_data.csv', index=False)"
   ]
  },
  {
   "cell_type": "markdown",
   "metadata": {},
   "source": [
    "<a id='eda'></a>\n",
    "## Exploratory Data Analysis"
   ]
  },
  {
   "cell_type": "code",
   "execution_count": 16,
   "metadata": {},
   "outputs": [],
   "source": [
    "# Setting up background style for plots\n",
    "sns.set_style(\"darkgrid\")"
   ]
  },
  {
   "cell_type": "code",
   "execution_count": 41,
   "metadata": {},
   "outputs": [
    {
     "data": {
      "image/png": "[encoded data removed]",
      "text/plain": [
       "<Figure size 720x576 with 4 Axes>"
      ]
     },
     "metadata": {},
     "output_type": "display_data"
    }
   ],
   "source": [
    "# Plotting histogram for entire dataframe to see how the different characteristics are distributed\n",
    "df.hist(figsize=(10,8));"
   ]
  },
  {
   "cell_type": "code",
   "execution_count": 17,
   "metadata": {},
   "outputs": [
    {
     "data": {
      "text/plain": [
       "No     51435\n",
       "Yes    20519\n",
       "Name: No_show, dtype: int64"
      ]
     },
     "execution_count": 17,
     "metadata": {},
     "output_type": "execute_result"
    }
   ],
   "source": [
    "# Checking total count for showed up and No show appointments. \n",
    "df.No_show.value_counts()"
   ]
  },
  {
   "cell_type": "markdown",
   "metadata": {},
   "source": [
    "### Creating masks for showed up and no show appointments. \n",
    "These masks can be used in further exploratory data analysis for answering the above proposed questions."
   ]
  },
  {
   "cell_type": "code",
   "execution_count": 18,
   "metadata": {},
   "outputs": [],
   "source": [
    "# Creating masks for people who showed up\n",
    "Showed_up = df.No_show == \"No\""
   ]
  },
  {
   "cell_type": "code",
   "execution_count": 19,
   "metadata": {},
   "outputs": [],
   "source": [
    "# Creating masks for people who did not show up\n",
    "Not_showed = df.No_show == \"Yes\""
   ]
  },
  {
   "cell_type": "markdown",
   "metadata": {},
   "source": [
    "### Research Question 1: Weather a particular gender has more no show rate than other?"
   ]
  },
  {
   "cell_type": "markdown",
   "metadata": {},
   "source": [
    "#### Writing a function \"find_association\" to find how different parameters given in the dataset are associated with No_show rate in the appointments.\n",
    "\n",
    "This function takes parameter-name as input and use it to calculate percentage of no show appointments in each value count of the given parameter. In the cleaned dataset, there are exactly two different values in each column except for the age and date columns. This function also plots the calculated percentages on bar chart and finally returns list of percentages for each value count and the plot. "
   ]
  },
  {
   "cell_type": "code",
   "execution_count": 20,
   "metadata": {},
   "outputs": [],
   "source": [
    "def find_association(parameter):\n",
    "    # Series of total number of appointments in each value count of the given parameter\n",
    "    total = df[parameter].value_counts()\n",
    "    \n",
    "    # Series of total number of no show appointments in each value count of the given parameter\n",
    "    total_no_show = df[parameter][Not_showed].value_counts()\n",
    "    \n",
    "    # Calculating percentage of no show appointments in each value count of the given parameter using for loop\n",
    "    no_show_perc = [] # List to save percentage for each value count\n",
    "    for i in total.index:\n",
    "        no_show_perc.append(total_no_show[i] *100 / total[i])\n",
    "    \n",
    "    # Ploting bar chart to represent percentage for each value count\n",
    "    plt.bar(total.index, no_show_perc, width =0.4, color='b', alpha=.7, label='No_show');\n",
    "    # Title of the bar chart\n",
    "    plt.title(\"Percentage of No_show appoinments based on {}\".format(parameter))\n",
    "    # y-axis label\n",
    "    plt.ylabel(\"Percentage of No_show appointments\")\n",
    "    \n",
    "    return no_show_perc, plt"
   ]
  },
  {
   "cell_type": "markdown",
   "metadata": {},
   "source": [
    "#### Calling find_association() for Gender \n",
    "Also, showing the bar chart and printing the percentage values."
   ]
  },
  {
   "cell_type": "code",
   "execution_count": 21,
   "metadata": {},
   "outputs": [
    {
     "data": {
      "image/png": "[encoded data removed]",
      "text/plain": [
       "<Figure size 432x288 with 1 Axes>"
      ]
     },
     "metadata": {},
     "output_type": "display_data"
    },
    {
     "name": "stdout",
     "output_type": "stream",
     "text": [
      "Percentage of female who did not show up: 28.442733797981898 %\n",
      "Percentage of male who did not show up: 28.665913181799155 %\n"
     ]
    }
   ],
   "source": [
    "# Calling find_association() for Gender\n",
    "parameter_perc, plt = find_association('Gender')\n",
    "# x-axis label\n",
    "plt.xlabel(\"Gender\")\n",
    "# Calling show() to show the bar chart\n",
    "plt.show()\n",
    "\n",
    "# As obsereved earlier, there two unique values in gender column-(F or M)\n",
    "# Printing percentages of no show for F and M\n",
    "\n",
    "print(\"Percentage of female who did not show up:\", parameter_perc[0],\"%\")\n",
    "print(\"Percentage of male who did not show up:\", parameter_perc[1],\"%\")"
   ]
  },
  {
   "cell_type": "markdown",
   "metadata": {},
   "source": [
    "### Research Question 2: Does people who receive text message about their appointment are less likely to miss it?"
   ]
  },
  {
   "cell_type": "markdown",
   "metadata": {},
   "source": [
    "#### Calling find_association() for SMS_received"
   ]
  },
  {
   "cell_type": "code",
   "execution_count": 22,
   "metadata": {
    "scrolled": true
   },
   "outputs": [
    {
     "data": {
      "image/png": "[encoded data removed]",
      "text/plain": [
       "<Figure size 432x288 with 1 Axes>"
      ]
     },
     "metadata": {},
     "output_type": "display_data"
    },
    {
     "name": "stdout",
     "output_type": "stream",
     "text": [
      "Percentage of no show in people who didn't receive SMS: 29.43273106133304 %\n",
      "Percentage of no show in people who received SMS: 27.575322003325724 %\n"
     ]
    }
   ],
   "source": [
    "# Calling find_association() for SMS_received\n",
    "parameter_perc, plt = find_association('SMS_received')\n",
    "\n",
    "# Calling xticks() to update ticks labels on x-axis\n",
    "plt.xticks(np.arange(2), ['SMS_not_received', 'SMS_received'])\n",
    "# Calling show() to show the bar chart\n",
    "plt.show()\n",
    "\n",
    "# As obsereved earlier from the summary statistics of cleaned dataset, \n",
    "# There two unique values in this column-(0 for no_SMS or 1 for SMS_received)\n",
    "# Printing percentages of no show for each of them\n",
    "\n",
    "print(\"Percentage of no show in people who didn't receive SMS:\", parameter_perc[0],\"%\")\n",
    "print(\"Percentage of no show in people who received SMS:\", parameter_perc[1],\"%\")"
   ]
  },
  {
   "cell_type": "markdown",
   "metadata": {},
   "source": [
    "### Research Question 3: No show trends among the people of different age."
   ]
  },
  {
   "cell_type": "markdown",
   "metadata": {},
   "source": [
    "#### There can be 101 different values in Age column ranging from 0 to 100."
   ]
  },
  {
   "cell_type": "code",
   "execution_count": 23,
   "metadata": {},
   "outputs": [
    {
     "data": {
      "text/plain": [
       "100"
      ]
     },
     "execution_count": 23,
     "metadata": {},
     "output_type": "execute_result"
    }
   ],
   "source": [
    "# Finding number of different values in Age column\n",
    "age_values= df.Age.value_counts()\n",
    "age_values.size"
   ]
  },
  {
   "cell_type": "markdown",
   "metadata": {},
   "source": [
    "#### Actually, there are 100 different values in Age column."
   ]
  },
  {
   "cell_type": "markdown",
   "metadata": {},
   "source": [
    "#### Finding number of different values in Age column with no show appointments"
   ]
  },
  {
   "cell_type": "code",
   "execution_count": 24,
   "metadata": {},
   "outputs": [
    {
     "data": {
      "text/plain": [
       "98"
      ]
     },
     "execution_count": 24,
     "metadata": {},
     "output_type": "execute_result"
    }
   ],
   "source": [
    "no_show_age_values = df.Age[Not_showed].value_counts()\n",
    "no_show_age_values.size"
   ]
  },
  {
   "cell_type": "markdown",
   "metadata": {},
   "source": [
    "#### There are 98 different values in age column for no show appointments.\n",
    "1. This shows that there are patients of two different age values who always showed up for their appointments.\n",
    "2. As the size of 'age_values' and 'no_show_age_values' series is not equal, they can not be used to compute the percentage of no show rate for each age value from 0 to 100.\n",
    "3. This issue can be solved by combining them in one dataframe. Dataframe will map all values in these two serieses together and fill any the missing values with null values."
   ]
  },
  {
   "cell_type": "markdown",
   "metadata": {},
   "source": [
    "#### Creating dataframe 'df_age' and printing it's information"
   ]
  },
  {
   "cell_type": "code",
   "execution_count": 25,
   "metadata": {},
   "outputs": [
    {
     "name": "stdout",
     "output_type": "stream",
     "text": [
      "<class 'pandas.core.frame.DataFrame'>\n",
      "Int64Index: 100 entries, 0 to 100\n",
      "Data columns (total 2 columns):\n",
      " #   Column   Non-Null Count  Dtype  \n",
      "---  ------   --------------  -----  \n",
      " 0   total    100 non-null    int64  \n",
      " 1   no_show  98 non-null     float64\n",
      "dtypes: float64(1), int64(1)\n",
      "memory usage: 2.3 KB\n"
     ]
    }
   ],
   "source": [
    "frame = {'total':age_values,'no_show': no_show_age_values}\n",
    "df_age = pd.DataFrame(frame)\n",
    "df_age.info()"
   ]
  },
  {
   "cell_type": "markdown",
   "metadata": {},
   "source": [
    "1. This dataframe has 100 rows (each for different age value) and 2 columns. \n",
    "2. Column 'total' shows total number of patients in dataset with perticular age and column 'no_show' shows the number of patients in same group who missed their appointments.\n",
    "3. Column 'no_show' in this dataframe has to null values which need to be filled with 0 for percentage calculations.\n",
    "4. Also, datatype of 'no_show' column needs to be changed to int."
   ]
  },
  {
   "cell_type": "markdown",
   "metadata": {},
   "source": [
    "#### Filling null value in 'df_age' dataframe with 0"
   ]
  },
  {
   "cell_type": "code",
   "execution_count": 26,
   "metadata": {},
   "outputs": [],
   "source": [
    "df_age.fillna(0, inplace=True)"
   ]
  },
  {
   "cell_type": "markdown",
   "metadata": {},
   "source": [
    "#### Changing datatype of 'no_show' column from float to int"
   ]
  },
  {
   "cell_type": "code",
   "execution_count": 27,
   "metadata": {},
   "outputs": [],
   "source": [
    "# change datatype of no_show column in df_age dataframe to int\n",
    "df_age['no_show']= df_age['no_show'].astype(int)"
   ]
  },
  {
   "cell_type": "markdown",
   "metadata": {},
   "source": [
    "#### Calculating percentage of no show appointments in each age group and assigning these values in column 'no_show_perc' in 'df_age' dataframe"
   ]
  },
  {
   "cell_type": "code",
   "execution_count": 28,
   "metadata": {},
   "outputs": [],
   "source": [
    "df_age= df_age.assign(no_show_perc = lambda x: x.no_show * 100 / x.total)"
   ]
  },
  {
   "cell_type": "markdown",
   "metadata": {},
   "source": [
    "#### Collecting maximum and minimum percentage of no show appointments "
   ]
  },
  {
   "cell_type": "code",
   "execution_count": 29,
   "metadata": {},
   "outputs": [],
   "source": [
    "max_perc = df_age.no_show_perc.max()\n",
    "min_perc = df_age.no_show_perc.min()"
   ]
  },
  {
   "cell_type": "markdown",
   "metadata": {},
   "source": [
    "#### Getting corresponding values of ages for maximum and minimum percentage of no show appointments"
   ]
  },
  {
   "cell_type": "code",
   "execution_count": 30,
   "metadata": {},
   "outputs": [],
   "source": [
    "max_perc_age= df_age.index[df_age.no_show_perc == max_perc].tolist()\n",
    "min_perc_age= df_age.index[df_age.no_show_perc == min_perc].tolist()"
   ]
  },
  {
   "cell_type": "markdown",
   "metadata": {},
   "source": [
    "#### Plotting percentage of no_show appoinments among the patients of different age group"
   ]
  },
  {
   "cell_type": "code",
   "execution_count": 36,
   "metadata": {},
   "outputs": [
    {
     "name": "stdout",
     "output_type": "stream",
     "text": [
      "Highest percentage of no_show is 50.0% for age [95]\n",
      "Lowest percentage of no_show is 0.0% for age [97, 100]\n"
     ]
    },
    {
     "data": {
      "image/png": "[encoded data removed]",
      "text/plain": [
       "<Figure size 864x360 with 1 Axes>"
      ]
     },
     "metadata": {},
     "output_type": "display_data"
    }
   ],
   "source": [
    "# Creating sub-plot for bar chart\n",
    "plt.subplots(figsize=(12,5))\n",
    "# Plotting bar chart\n",
    "plt.bar(df_age.index, df_age['no_show_perc'], color='b', alpha=.7);\n",
    "# Providing x-axis ticks values\n",
    "plt.xticks(np.linspace(0, 100, 21));\n",
    "# x-axis label\n",
    "plt.xlabel(\"Age\")\n",
    "# y-axis label\n",
    "plt.ylabel(\"Percentage of No_show appoinments\")\n",
    "# Title of the bar chart\n",
    "plt.title(\"No show trends for different ages\")\n",
    "\n",
    "# Printing maximum and minimum percentage of no show appointments with their corresponding age group\n",
    "print(\"Highest percentage of no_show is {}% for age {}\".format(max_perc, max_perc_age))\n",
    "print(\"Lowest percentage of no_show is {}% for age {}\".format(min_perc, min_perc_age))"
   ]
  },
  {
   "cell_type": "markdown",
   "metadata": {},
   "source": [
    "### Research Question 4: Does time elapsed between appointment setup date and actual appointment date affects the trends of no show?"
   ]
  },
  {
   "cell_type": "markdown",
   "metadata": {},
   "source": [
    "#### Calculating percentage of no show appointments for different values in 'Diff_days' column"
   ]
  },
  {
   "cell_type": "code",
   "execution_count": 32,
   "metadata": {},
   "outputs": [
    {
     "data": {
      "text/plain": [
       "0      21.350470\n",
       "1      23.825104\n",
       "2      23.473492\n",
       "3      23.270321\n",
       "4      26.609704\n",
       "         ...    \n",
       "154    60.000000\n",
       "161    18.181818\n",
       "168    12.500000\n",
       "175    37.500000\n",
       "178    20.000000\n",
       "Name: Diff_days, Length: 128, dtype: float64"
      ]
     },
     "execution_count": 32,
     "metadata": {},
     "output_type": "execute_result"
    }
   ],
   "source": [
    "no_show_diff_days_perc= (df.Diff_days[Not_showed].value_counts()) *100/(df.Diff_days.value_counts())\n",
    "no_show_diff_days_perc"
   ]
  },
  {
   "cell_type": "markdown",
   "metadata": {},
   "source": [
    "#### Plotting percentage of no show appointments for different values in 'Diff_days' column"
   ]
  },
  {
   "cell_type": "code",
   "execution_count": 53,
   "metadata": {},
   "outputs": [
    {
     "data": {
      "image/png": "[encoded data removed]",
      "text/plain": [
       "<Figure size 864x360 with 1 Axes>"
      ]
     },
     "metadata": {},
     "output_type": "display_data"
    }
   ],
   "source": [
    "# Creating sub-plot for line chart\n",
    "plt.subplots(figsize=(12,5))\n",
    "# Plotting line chart\n",
    "plt.plot(no_show_diff_days_perc.dropna(), color='b', alpha=.7);\n",
    "# x-axis label\n",
    "plt.xlabel(\"Days passed since scheduled day\")\n",
    "# y-axis label\n",
    "plt.ylabel(\"Percentage of No_show appoinments\")\n",
    "# Title of the bar chart\n",
    "plt.title(\"No show trends for number of days passed since scheduled day\");"
   ]
  },
  {
   "cell_type": "markdown",
   "metadata": {},
   "source": [
    "### Research Question 5: Weather an enrollment in healthcare walefare program affects the no show rate?"
   ]
  },
  {
   "cell_type": "markdown",
   "metadata": {},
   "source": [
    "As the column containing data regarding healthcare program enrollment \"Scholarship' has just two different possible values(0 or 1), I will be using find_associatin() function to get the no show appointment rate."
   ]
  },
  {
   "cell_type": "markdown",
   "metadata": {},
   "source": [
    "#### Calling find_association() for Scholarship"
   ]
  },
  {
   "cell_type": "code",
   "execution_count": 34,
   "metadata": {},
   "outputs": [
    {
     "data": {
      "image/png": "[encoded data removed]",
      "text/plain": [
       "<Figure size 432x288 with 1 Axes>"
      ]
     },
     "metadata": {},
     "output_type": "display_data"
    },
    {
     "name": "stdout",
     "output_type": "stream",
     "text": [
      "Percentage of no show in people who are not enrolled in healthcare walefare program: 27.857175681264646 %\n",
      "Percentage of no show in people who are enrolled in healthcare walefare program: 34.972268025783244 %\n"
     ]
    }
   ],
   "source": [
    "# calling find_association() for Scholarship\n",
    "parameter_perc, plt = find_association('Scholarship')\n",
    "\n",
    "# calling xticks() to update ticks labels on x-axis\n",
    "plt.xticks(np.arange(2), ['Not_enrolled', 'Enrolled'])\n",
    "# calling show() to show the bar chart\n",
    "plt.show()\n",
    "\n",
    "# As obsereved earlier from the summary statistics of cleaned dataset, \n",
    "# there two unique values in this column-(0 for no enrollment or 1 for enrollment in healthcare program)\n",
    "# printing percentages of no show for each of them\n",
    "\n",
    "print(\"Percentage of no show in people who are not enrolled in healthcare walefare program:\", parameter_perc[0],\"%\")\n",
    "print(\"Percentage of no show in people who are enrolled in healthcare walefare program:\", parameter_perc[1],\"%\")"
   ]
  },
  {
   "cell_type": "markdown",
   "metadata": {},
   "source": [
    "<a id='conclusions'></a>\n",
    "## Conclusions"
   ]
  },
  {
   "cell_type": "markdown",
   "metadata": {
    "collapsed": true
   },
   "source": [
    "From above analysis, following conclusions can be drawn:\n",
    "\n",
    "1. The percentage of females and males who did not show up for their appointments is almost equal. \n",
    "2. Sending SMS about the appointment to patients does not reduce the chances of no show.\n",
    "3. General trend in bar chart shows that no show rate is more in youger people than in older. This could be because older people are more concerned about their health issues than younger people. \n",
    "4. Percentage of no show increases as the gap between appointment scheduled date and actual appointment date increases. This could be because some people forget about things if lot of time passes in between unless they use some kind of reminder.\n",
    "5. People enrolled in healthcare walefare program has more no show rate than people who are not enrolled.\n",
    "\n",
    "### Limitations:\n",
    "These conclusions are strictly based on the observations made by cleaning and visualzing different characteristics of the used dataset. Any inferential statistical methods are not used to make the inferences or conclusions. Also, some rows has been deleted because of missing values or invalid values in some columns. This might affect the analysis results."
   ]
  },
  {
   "cell_type": "markdown",
   "metadata": {},
   "source": [
    "### References:\n",
    "\n",
    "I have used official documentation for numpy, pandas, matplotlib and sns to complete the documents."
   ]
  }
 ],
 "metadata": {
  "kernelspec": {
   "display_name": "Python 3",
   "language": "python",
   "name": "python3"
  },
  "language_info": {
   "codemirror_mode": {
    "name": "ipython",
    "version": 3
   },
   "file_extension": ".py",
   "mimetype": "text/x-python",
   "name": "python",
   "nbconvert_exporter": "python",
   "pygments_lexer": "ipython3",
   "version": "3.7.7"
  }
 },
 "nbformat": 4,
 "nbformat_minor": 2
}
